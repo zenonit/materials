{
 "cells": [
  {
   "cell_type": "markdown",
   "metadata": {},
   "source": [
    "```Dockerfile\n",
    "version: '2'  \n",
    "services:  \n",
    "  nginx:\n",
    "    image: nginx:latest\n",
    "    container_name: nx01\n",
    "    ports:\n",
    "      - \"8001:8001\"\n",
    "    volumes:\n",
    "      - ../src:/src\n",
    "      - ./static:/static\n",
    "      - ./media:/media/\n",
    "      - ./config/nginx:/etc/nginx/conf.d\n",
    "    depends_on:\n",
    "      - web\n",
    "  web:\n",
    "    build: .\n",
    "    container_name: dg01\n",
    "    command: gunicorn mydjango.wsgi 0.0.0.0:8000\n",
    "\n",
    "    depends_on:\n",
    "      - db\n",
    "    links:\n",
    "      - redis\n",
    "    volumes:\n",
    "      - ../src:/src\n",
    "      - ./static:/static\n",
    "      - ./media:/media/\n",
    "    expose:\n",
    "      - \"8001\"\n",
    "  db:\n",
    "    image: postgres:latest\n",
    "    container_name: pq01\n",
    "    ports:\n",
    "     - \"5432:5432\"\n",
    "\n",
    "  redis:\n",
    "    image: redis:latest\n",
    "    container_name: rd01\n",
    "    ports:\n",
    "     - '6379:6379'\n",
    "\n",
    "  celery:\n",
    "    build: .\n",
    "    container_name: cl01\n",
    "    command: celery worker --app=app.tasks\n",
    "    volumes:\n",
    "      - ..:/src\n",
    "    links:\n",
    "      - db\n",
    "      - redis\n",
    "```"
   ]
  }
 ],
 "metadata": {
  "kernelspec": {
   "display_name": "Python 3",
   "language": "python",
   "name": "python3"
  },
  "language_info": {
   "codemirror_mode": {
    "name": "ipython",
    "version": 3
   },
   "file_extension": ".py",
   "mimetype": "text/x-python",
   "name": "python",
   "nbconvert_exporter": "python",
   "pygments_lexer": "ipython3",
   "version": "3.5.2"
  }
 },
 "nbformat": 4,
 "nbformat_minor": 2
}
